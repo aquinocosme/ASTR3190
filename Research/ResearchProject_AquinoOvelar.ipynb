{
 "cells": [
  {
   "cell_type": "code",
   "execution_count": null,
   "id": "0addf06f",
   "metadata": {},
   "outputs": [],
   "source": [
    "#imports tools and constants definitions\n",
    "import numpy as np\n",
    "from astropy.io import ascii \n",
    "import matplotlib.pyplot as plt \n",
    "from matplotlib import cm\n",
    "%matplotlib inline"
   ]
  },
  {
   "cell_type": "code",
   "execution_count": 17,
   "id": "54dfe768",
   "metadata": {},
   "outputs": [
    {
     "name": "stdout",
     "output_type": "stream",
     "text": [
      " 181.61220   27.57260  5087   0.05  16.40  15.24  14.80  14.73  14.69  0.02  0.02  0.02  0.02  0.01   5.16  -1.45   2.72 \n",
      "-------------------------------------------------------------------------------------------------------------------------\n",
      " 181.61303   27.60770  5087   0.05  21.84  19.55  18.40  18.04  17.79  0.18  0.02  0.02  0.02  0.02   5.48   4.73   3.16 \n",
      " 181.61416   27.35956  5112   0.05  19.76  17.56  16.61  16.23  16.07  0.03  0.01  0.02  0.03  0.03   3.14   7.92   2.79 \n",
      " 181.61640   27.82464  5112   0.06  21.73  20.63  20.19  19.99  20.04  0.16  0.03  0.03  0.03  0.13  19.13  -1.08   5.08 \n",
      " 181.62112   28.01623  5087   0.05  21.37  20.38  20.11  20.05  19.87  0.11  0.04  0.03  0.03  0.09  -3.65  -8.00   4.91 \n",
      " 181.62252   27.63987  5087   0.05  17.34  15.58  14.82  14.64  14.51  0.02  0.02  0.02  0.02  0.01   9.74 -10.64   2.72 \n",
      " 181.62469   27.32682  5112   0.05  21.63  20.52  20.21  20.10  19.91  0.13  0.02  0.03  0.04  1.07   6.73 -25.39   5.13 \n",
      " 181.62582   27.42162  5112   0.05  23.16  21.09  19.67  19.04  18.66  0.46  0.03  0.02  0.03  0.04  35.17   7.80   4.18 \n",
      " 181.63178   26.93836  5112   0.05  18.57  15.96  14.77  14.25  13.96  0.02  0.02  0.02  0.02  0.02  15.96  -8.01   2.72 \n",
      " 181.63364   27.24131  5087   0.06  20.90  18.78  17.80  17.38  17.06  0.08  0.03  0.02  0.02  0.02   2.03  -5.43   2.96 \n",
      " 181.63402   27.67254  5112   0.05  21.40  20.29  19.69  19.48  19.25  0.12  0.03  0.03  0.02  0.07  16.80   6.27   4.20 \n"
     ]
    }
   ],
   "source": [
    "#reads the data and tests for correct input\n",
    "data = ascii.read('Astr511HW1data.dat.txt',format='tab') #commented_head use this in jupyter notebooks\n",
    "print(data[:10])\n",
    " ##    ra        dec   run     Ar      u      g      r      i      z  uErr  gErr  rErr  iErr  zErr    pmL    pmB    pmErr"
   ]
  },
  {
   "cell_type": "code",
   "execution_count": 16,
   "id": "20d9a401",
   "metadata": {},
   "outputs": [],
   "source": [
    "#computes absolute magnitude using photometric parallax relationship [Ivezić et al. 2008]\n"
   ]
  },
  {
   "cell_type": "code",
   "execution_count": 4,
   "id": "e1d1e9c5",
   "metadata": {},
   "outputs": [],
   "source": [
    "#computes metallicity [Bond et al. 2010]"
   ]
  },
  {
   "cell_type": "code",
   "execution_count": null,
   "id": "f107b0df",
   "metadata": {},
   "outputs": [],
   "source": []
  }
 ],
 "metadata": {
  "kernelspec": {
   "display_name": "Python 3 (ipykernel)",
   "language": "python",
   "name": "python3"
  },
  "language_info": {
   "codemirror_mode": {
    "name": "ipython",
    "version": 3
   },
   "file_extension": ".py",
   "mimetype": "text/x-python",
   "name": "python",
   "nbconvert_exporter": "python",
   "pygments_lexer": "ipython3",
   "version": "3.9.7"
  }
 },
 "nbformat": 4,
 "nbformat_minor": 5
}
