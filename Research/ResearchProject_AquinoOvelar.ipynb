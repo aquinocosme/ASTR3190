{
 "cells": [
  {
   "cell_type": "code",
   "execution_count": 1,
   "id": "0addf06f",
   "metadata": {},
   "outputs": [],
   "source": [
    "#imports tools and constants definitions\n",
    "import numpy as np\n",
    "from astropy.io import ascii \n",
    "import matplotlib.pyplot as plt \n",
    "from matplotlib import cm\n",
    "import pandas as pd\n",
    "%matplotlib inline"
   ]
  },
  {
   "cell_type": "code",
   "execution_count": 13,
   "id": "753d3ae5",
   "metadata": {},
   "outputs": [],
   "source": [
    "#convert column values to np.array\n",
    "#numColumns = data.columns\n",
    "#print(numColumns)\n",
    "#for i in len(numColumns):\n",
    "#    columns = []\n",
    "#    columns.append(np.array[data[numColumns[i]]])"
   ]
  },
  {
   "cell_type": "code",
   "execution_count": 14,
   "id": "54dfe768",
   "metadata": {},
   "outputs": [
    {
     "name": "stdout",
     "output_type": "stream",
     "text": [
      "    ra      dec    run   Ar    u     g   ... rErr iErr zErr  pmL   pmB   pmErr\n",
      "--------- -------- ---- ---- ----- ----- ... ---- ---- ---- ----- ------ -----\n",
      " 181.6122  27.5726 5087 0.05  16.4 15.24 ... 0.02 0.02 0.01  5.16  -1.45  2.72\n",
      "181.61303  27.6077 5087 0.05 21.84 19.55 ... 0.02 0.02 0.02  5.48   4.73  3.16\n",
      "181.61416 27.35956 5112 0.05 19.76 17.56 ... 0.02 0.03 0.03  3.14   7.92  2.79\n",
      " 181.6164 27.82464 5112 0.06 21.73 20.63 ... 0.03 0.03 0.13 19.13  -1.08  5.08\n",
      "181.62112 28.01623 5087 0.05 21.37 20.38 ... 0.03 0.03 0.09 -3.65   -8.0  4.91\n",
      "181.62252 27.63987 5087 0.05 17.34 15.58 ... 0.02 0.02 0.01  9.74 -10.64  2.72\n",
      "181.62469 27.32682 5112 0.05 21.63 20.52 ... 0.03 0.04 1.07  6.73 -25.39  5.13\n",
      "181.62582 27.42162 5112 0.05 23.16 21.09 ... 0.02 0.03 0.04 35.17    7.8  4.18\n",
      "181.63178 26.93836 5112 0.05 18.57 15.96 ... 0.02 0.02 0.02 15.96  -8.01  2.72\n",
      "181.63364 27.24131 5087 0.06  20.9 18.78 ... 0.02 0.02 0.02  2.03  -5.43  2.96\n"
     ]
    }
   ],
   "source": [
    "#reads the data and tests for correct input\n",
    "data = ascii.read('Astr511HW1data.dat.txt',format='commented_header') #commented_head use this in jupyter notebooks\n",
    "print(data[:10])\n",
    " ##    ra        dec   run     Ar      u      g      r      i      z  uErr  gErr  rErr  iErr  zErr    pmL    pmB    pmErr"
   ]
  },
  {
   "cell_type": "code",
   "execution_count": 15,
   "id": "e1d1e9c5",
   "metadata": {},
   "outputs": [],
   "source": [
    "#computes metallicity function [Bond et al. 2010]\n",
    "def metallicity(x,y):\n",
    "    \"\"\"\n",
    "    Calculates metallicity [Bond et al. 2010]\n",
    "        \n",
    "            Parameters:\n",
    "                x( float array): u-g SDSS band\n",
    "                y( float array): g-r SDSS band\n",
    "            Returns:\n",
    "                metallicity (float array): Fe/H\n",
    "    \"\"\"\n",
    "    #defines best-fit coefficients given by Bond et al. in array type from A-J\n",
    "    A=-13.13\n",
    "    B= 14.09\n",
    "    C= 28.04\n",
    "    D= -5.51\n",
    "    E= -5.90\n",
    "    F= -58.68\n",
    "    G= 9.14\n",
    "    H= -20.61\n",
    "    I= 0.0\n",
    "    J= 58.20\n",
    "    #creates empty array to allocate results \n",
    "    metallicityArray = np.empty(y.size)\n",
    "    metallicityArray[:] = 0\n",
    "    #loops through  data \n",
    "    for i in range (y.size):\n",
    "        if(y[i] < 0.6 ):    \n",
    "        #appends to resulting metallicity array and computes the formula. This seems very tricky but it's simple don't panick h\n",
    "            metallicityArray[i] = A+B*x[i]+C*y[i]+D*x[i]*y[i]+E*(x[i]**2)+F*(y[i]**2)+G*((x[i])**2)*y[i]+H*x[i]*((y[i])**2)+I*((x[i])**3)+J*(y[i]**3)\n",
    "        else:\n",
    "            metallicityArray[i] = -0.6\n",
    "    return metallicityArray\n",
    "    # metallicityArray[i] = A + B*x[i]+ C*y[i] + D*x[i]*y[i] + E*pow(x,2) + F*pow(y,2)+G*pow(x,2)*y + H*pow(y,2)*x + I*pow(x,3)+J*pow(y,3)\n"
   ]
  },
  {
   "cell_type": "code",
   "execution_count": 16,
   "id": "982a0a03",
   "metadata": {},
   "outputs": [
    {
     "name": "stdout",
     "output_type": "stream",
     "text": [
      "[-0.8191296 -0.6       -0.6       ... -0.6       -0.6       -0.6      ]\n"
     ]
    }
   ],
   "source": [
    "#tests metallicity function\n",
    "x = np.array(data['u'] - data['g'])\n",
    "y = np.array(data['g'] - data['r'])\n",
    "metas = metallicity(x,y)\n",
    "print(metas)"
   ]
  },
  {
   "cell_type": "code",
   "execution_count": 17,
   "id": "20d9a401",
   "metadata": {},
   "outputs": [],
   "source": [
    "#computes absolute magnitude using photometric parallax relationship [Ivezić et al. 2008]\n",
    "def abs_mag(band):\n",
    "    \"\"\"\n",
    "    Calculates absolute magnitudes [Bond et al. 2010]\n",
    "        \n",
    "            Parameters:\n",
    "                band( float array): g -i SDSS band\n",
    "            Returns:\n",
    "                absolute magnitudes(float array)\n",
    "    \"\"\"\n",
    "    #defines an empty array to return result\n",
    "    absolute_magnitude = np.empty(band.size)\n",
    "    #computes metallicity with previous function\n",
    "    metas = metallicity(x,y)\n",
    "    #loops through the arrays\n",
    "    for i in range(band.size):\n",
    "        mgn_metallicity = 4.50 -1.11*metas[i] -0.18*pow(metas[i],2)\n",
    "        #A7\n",
    "        mgn_band = -5.06  +14.32*band[i] - 12.97*pow(band[i],2) + 6.127*pow(band[i],3) - 1.267*pow(band[i],4) + 0.0967*pow(band[i],5)\n",
    "        #A4\n",
    "        absolute_magnitude[i] = mgn_band + mgn_metallicity\n",
    "    return absolute_magnitude\n",
    "    \n",
    "    "
   ]
  },
  {
   "cell_type": "code",
   "execution_count": 18,
   "id": "e953297b",
   "metadata": {},
   "outputs": [
    {
     "name": "stdout",
     "output_type": "stream",
     "text": [
      "[ 4.88853564  7.35863457  6.99674651 ... 12.14468138 10.22341151\n",
      "  9.98738184]\n"
     ]
    }
   ],
   "source": [
    "#test abs_mag function\n",
    "z = np.array(data['g'] - data['i'])\n",
    "mag = abs_mag(z)\n",
    "print(mag)"
   ]
  },
  {
   "cell_type": "code",
   "execution_count": 36,
   "id": "2fe66eb6",
   "metadata": {},
   "outputs": [],
   "source": [
    "#getting distances\n",
    "def distance(absolutes,apparent):\n",
    "    #creates an empty array to return \n",
    "    result = np.empty(absolutes.size)\n",
    "    #creates a convinient array of 10 \n",
    "    tens = np.empty(absolutes.size)\n",
    "    tens[:] = 10\n",
    "    for i in range(absolutes.size):\n",
    "        formula = np.empty(absolutes.size)\n",
    "        formula[i] = (apparent[i] - absolutes[i])/5\n",
    "        result = np.float_power(tens,formula)\n",
    "    return result/10\n",
    "        "
   ]
  },
  {
   "cell_type": "code",
   "execution_count": 38,
   "id": "bae6e47c",
   "metadata": {},
   "outputs": [
    {
     "name": "stdout",
     "output_type": "stream",
     "text": [
      "[            inf             inf             inf             inf\n",
      "             inf             inf             inf             inf\n",
      "             inf             inf             inf             inf\n",
      "             inf             inf             inf             inf\n",
      "             inf             inf             inf             inf\n",
      "             inf             inf             inf             inf\n",
      "             inf             inf             inf             inf\n",
      "             inf             inf             inf             inf\n",
      "             inf             inf             inf             inf\n",
      "             inf             inf             inf             inf\n",
      "             inf             inf             inf             inf\n",
      "             inf             inf             inf 1.18870841e+281\n",
      "             inf 1.11379304e+002]\n"
     ]
    },
    {
     "name": "stderr",
     "output_type": "stream",
     "text": [
      "C:\\Users\\cosme\\AppData\\Local\\Temp/ipykernel_6732/3051582908.py:11: RuntimeWarning: overflow encountered in float_power\n",
      "  result = np.float_power(tens,formula)\n"
     ]
    }
   ],
   "source": [
    "myDistance = distance(mag[:50],np.array(data['u'])[:50])\n",
    "print(myDistance)"
   ]
  },
  {
   "cell_type": "code",
   "execution_count": null,
   "id": "d935ec49",
   "metadata": {},
   "outputs": [],
   "source": []
  }
 ],
 "metadata": {
  "kernelspec": {
   "display_name": "Python 3 (ipykernel)",
   "language": "python",
   "name": "python3"
  },
  "language_info": {
   "codemirror_mode": {
    "name": "ipython",
    "version": 3
   },
   "file_extension": ".py",
   "mimetype": "text/x-python",
   "name": "python",
   "nbconvert_exporter": "python",
   "pygments_lexer": "ipython3",
   "version": "3.9.7"
  }
 },
 "nbformat": 4,
 "nbformat_minor": 5
}
