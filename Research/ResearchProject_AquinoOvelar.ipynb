{
 "cells": [
  {
   "cell_type": "code",
   "execution_count": 1,
   "id": "0addf06f",
   "metadata": {},
   "outputs": [],
   "source": [
    "#imports tools and constants definitions\n",
    "import numpy as np\n",
    "from astropy.io import ascii \n",
    "import matplotlib.pyplot as plt \n",
    "from matplotlib import cm\n",
    "import pandas as pd\n",
    "%matplotlib inline"
   ]
  },
  {
   "cell_type": "code",
   "execution_count": 2,
   "id": "54dfe768",
   "metadata": {},
   "outputs": [
    {
     "name": "stdout",
     "output_type": "stream",
     "text": [
      "    ra      dec    run   Ar    u     g   ... rErr iErr zErr  pmL   pmB   pmErr\n",
      "--------- -------- ---- ---- ----- ----- ... ---- ---- ---- ----- ------ -----\n",
      " 181.6122  27.5726 5087 0.05  16.4 15.24 ... 0.02 0.02 0.01  5.16  -1.45  2.72\n",
      "181.61303  27.6077 5087 0.05 21.84 19.55 ... 0.02 0.02 0.02  5.48   4.73  3.16\n",
      "181.61416 27.35956 5112 0.05 19.76 17.56 ... 0.02 0.03 0.03  3.14   7.92  2.79\n",
      " 181.6164 27.82464 5112 0.06 21.73 20.63 ... 0.03 0.03 0.13 19.13  -1.08  5.08\n",
      "181.62112 28.01623 5087 0.05 21.37 20.38 ... 0.03 0.03 0.09 -3.65   -8.0  4.91\n",
      "181.62252 27.63987 5087 0.05 17.34 15.58 ... 0.02 0.02 0.01  9.74 -10.64  2.72\n",
      "181.62469 27.32682 5112 0.05 21.63 20.52 ... 0.03 0.04 1.07  6.73 -25.39  5.13\n",
      "181.62582 27.42162 5112 0.05 23.16 21.09 ... 0.02 0.03 0.04 35.17    7.8  4.18\n",
      "181.63178 26.93836 5112 0.05 18.57 15.96 ... 0.02 0.02 0.02 15.96  -8.01  2.72\n",
      "181.63364 27.24131 5087 0.06  20.9 18.78 ... 0.02 0.02 0.02  2.03  -5.43  2.96\n"
     ]
    }
   ],
   "source": [
    "#reads the data and tests for correct input\n",
    "data = ascii.read('Astr511HW1data.dat.txt',format='commented_header') #commented_head use this in jupyter notebooks\n",
    "print(data[:10])\n",
    " ##    ra        dec   run     Ar      u      g      r      i      z  uErr  gErr  rErr  iErr  zErr    pmL    pmB    pmErr"
   ]
  },
  {
   "cell_type": "code",
   "execution_count": 3,
   "id": "e1d1e9c5",
   "metadata": {},
   "outputs": [],
   "source": [
    "#computes metallicity function [Bond et al. 2010]\n",
    "def metallicity(x,y):\n",
    "    \"\"\"\n",
    "    Calculates metallicity [Bond et al. 2010]\n",
    "        \n",
    "            Parameters:\n",
    "                x( float array): u-g SDSS band\n",
    "                y( float array): g-r SDSS band\n",
    "            Returns:\n",
    "                metallicity (float array): Fe/H\n",
    "    \"\"\"\n",
    "    #defines best-fit coefficients given by Bond et al. in array type from A-J\n",
    "    A=-13.13\n",
    "    B= 14.09\n",
    "    C= 28.04\n",
    "    D= -5.51\n",
    "    E= -5.90\n",
    "    F= -58.68\n",
    "    G= 9.14\n",
    "    H= -20.61\n",
    "    I= 0.0\n",
    "    J= 58.20\n",
    "    #creates empty array to allocate results \n",
    "    metallicityArray = np.empty(y.size)\n",
    "    metallicityArray[:] = 0\n",
    "    #loops through  data \n",
    "    for i in range (y.size):\n",
    "        if(y[i] < 0.6 ):    \n",
    "        #appends to resulting metallicity array and computes the formula. This seems very tricky but it's simple don't panick h\n",
    "            metallicityArray[i] = A+B*x[i]+C*y[i]+D*x[i]*y[i]+E*(x[i]**2)+F*(y[i]**2)+G*((x[i])**2)*y[i]+H*x[i]*((y[i])**2)+I*((x[i])**3)+J*(y[i]**3)\n",
    "        else:\n",
    "            metallicityArray[i] = -0.6\n",
    "    return metallicityArray\n",
    "    # metallicityArray[i] = A + B*x[i]+ C*y[i] + D*x[i]*y[i] + E*pow(x,2) + F*pow(y,2)+G*pow(x,2)*y + H*pow(y,2)*x + I*pow(x,3)+J*pow(y,3)\n"
   ]
  },
  {
   "cell_type": "code",
   "execution_count": 4,
   "id": "982a0a03",
   "metadata": {},
   "outputs": [
    {
     "name": "stdout",
     "output_type": "stream",
     "text": [
      "[-0.8191296 -0.6       -0.6       ... -0.6       -0.6       -0.6      ]\n"
     ]
    }
   ],
   "source": [
    "#tests metallicity function\n",
    "x = np.array(data['u'] - data['g'])\n",
    "y = np.array(data['g'] - data['r'])\n",
    "FeH = metallicity(x,y)\n",
    "print(FeH)"
   ]
  },
  {
   "cell_type": "code",
   "execution_count": 8,
   "id": "20d9a401",
   "metadata": {},
   "outputs": [],
   "source": [
    "#computes absolute magnitude using photometric parallax relationship [Ivezić et al. 2008]\n",
    "def abs_mag(band):\n",
    "    \"\"\"\n",
    "    Calculates absolute magnitudes [Bond et al. 2010]\n",
    "        \n",
    "            Parameters:\n",
    "                band( float array): g-i SDSS band\n",
    "            Returns:\n",
    "                absolute magnitudes(float array)\n",
    "    \"\"\"\n",
    "    #defines an empty array to return result\n",
    "    absolute_magnitude = np.empty(band.size)\n",
    "    #computes metallicity with previous function\n",
    "    metas = metallicity(x,y)\n",
    "    #loops through the arrays\n",
    "    for i in range(band.size):\n",
    "        mgn_metallicity = 4.50 -1.11*metas[i] -0.18*pow(metas[i],2)\n",
    "        #A7\n",
    "        mgn_band = -5.06  +14.32*band[i] - 12.97*pow(band[i],2) + 6.127*pow(band[i],3) - 1.267*pow(band[i],4) + 0.0967*pow(band[i],5)\n",
    "        #A4\n",
    "        absolute_magnitude[i] = mgn_band + mgn_metallicity\n",
    "    return absolute_magnitude"
   ]
  },
  {
   "cell_type": "code",
   "execution_count": 9,
   "id": "e953297b",
   "metadata": {},
   "outputs": [
    {
     "name": "stdout",
     "output_type": "stream",
     "text": [
      "[4.88853564 7.35863457 6.99674651 5.64485961 3.93777605 6.21245575\n",
      " 4.16177266 8.80018053 7.81967066 7.13325661 6.6090974  7.15312504\n",
      " 9.00008196 5.87101687 5.19660953 5.58187673 6.30386407 7.67323561\n",
      " 5.60238331 6.51519194 5.35027913 6.61439034 6.16487668 5.30720682\n",
      " 3.19556732 4.52877622 6.21245575 3.63096175 7.19319385 8.13587644\n",
      " 4.6269505  8.76762222 4.86438559 8.54593156 5.95950349 5.2726\n",
      " 5.48947639 7.92153682 4.85531136 6.39095648 8.89916384 9.172468\n",
      " 8.00023676 5.33635662 4.64081984 6.32601057 5.20893682 5.40817644\n",
      " 6.67260076 5.29597751]\n"
     ]
    }
   ],
   "source": [
    "#test abs_mag function\n",
    "z = np.array(data['g'] - data['i'])\n",
    "mag = abs_mag(z)\n",
    "print(mag[:50])"
   ]
  },
  {
   "cell_type": "code",
   "execution_count": 122,
   "id": "2fe66eb6",
   "metadata": {},
   "outputs": [],
   "source": [
    "#computes distance using a function\n",
    "def distance(absolutes,apparent):\n",
    "    \"\"\"\n",
    "    Calculates distances in parsecs\n",
    "        \n",
    "            Parameters:\n",
    "                Absolute: float array of absolute magnitude of a particular band\n",
    "                Apparent: float array of apparent magnitude of a particular band\n",
    "            Returns:\n",
    "                distances in parsecs(float array)\n",
    "    \"\"\"\n",
    "    #creates an empty array to return \n",
    "    formula = np.empty(absolutes.size)\n",
    "    formula = (apparent - absolutes)/5\n",
    "    result = np.power(10,formula)*10\n",
    "    return result"
   ]
  },
  {
   "cell_type": "code",
   "execution_count": 123,
   "id": "bae6e47c",
   "metadata": {},
   "outputs": [
    {
     "name": "stdout",
     "output_type": "stream",
     "text": [
      "[ 960.04783539 1615.37399051  836.85593009 ...  248.34974785  473.49750882\n",
      " 1338.20802884]\n"
     ]
    }
   ],
   "source": [
    "#tests for distance(absolute,apparent) function\n",
    "distanceParsec = distance(mag,np.array(data['r']))\n",
    "print(distanceParsec)"
   ]
  },
  {
   "cell_type": "code",
   "execution_count": 30,
   "id": "6065c7f3",
   "metadata": {},
   "outputs": [],
   "source": [
    "#computes function to calculate volume\n",
    "def volume_function(distance):\n",
    "    #creates an empty array to return\n",
    "    result = np.empty(distance.size)\n",
    "    result[:] = 0\n",
    "    for i in range(distance.size):\n",
    "        result[i] = 4/3*np.pi*distance[i]**3\n",
    "    return result\n",
    "# volumes = 4/3*np.pi*distancesCool**3 [use for testing]"
   ]
  },
  {
   "cell_type": "code",
   "execution_count": 32,
   "id": "4cc85f44",
   "metadata": {},
   "outputs": [
    {
     "name": "stdout",
     "output_type": "stream",
     "text": [
      "[3.70652751e+09 1.76566321e+10 2.45493899e+09 2.23446135e+12\n",
      " 2.11554846e+13 6.11808007e+08 1.78248142e+13 1.39309358e+10\n",
      " 6.19849437e+07 1.05228806e+10 2.95549458e+11 1.16469869e+11\n",
      " 9.07902958e+09 2.35222296e+10 2.28098744e+11 3.47506211e+11\n",
      " 3.97896546e+11 6.82570070e+08 3.25580676e+09 1.38348179e+10\n",
      " 1.82776826e+12 1.31055245e+10 1.17804696e+11 1.86107775e+12\n",
      " 5.11385276e+12 7.92178188e+12 7.02449579e+08 2.73849251e+13\n",
      " 9.86670857e+10 1.89043934e+09 5.22297938e+11 1.96569113e+09\n",
      " 7.50684168e+11 5.68237214e+08 1.48725869e+12 2.23114918e+11\n",
      " 1.96971220e+10 8.26354734e+07 9.65832456e+12 2.34161084e+09\n",
      " 4.02337309e+09 9.30267421e+09 5.99717264e+09 6.58073857e+10\n",
      " 6.42091178e+09 3.07951462e+10 7.32363210e+10 1.16730070e+10\n",
      " 1.62378361e+11 1.02920552e+12]\n"
     ]
    }
   ],
   "source": [
    "vol = volume_function(distanceParsec)\n",
    "print(vol)"
   ]
  },
  {
   "cell_type": "code",
   "execution_count": 176,
   "id": "e257c790",
   "metadata": {},
   "outputs": [
    {
     "name": "stderr",
     "output_type": "stream",
     "text": [
      "No handles with labels found to put in legend.\n"
     ]
    },
    {
     "name": "stdout",
     "output_type": "stream",
     "text": [
      "The number of stars within target range: 107673.000000 stars\n",
      "The maximum distance is: 98928.784738 parsec\n",
      "The minimum distance is: 577.277196 parsec\n"
     ]
    },
    {
     "data": {
      "image/png": "[encoded data removed]",
      "text/plain": [
       "<Figure size 576x576 with 1 Axes>"
      ]
     },
     "metadata": {
      "needs_background": "light"
     },
     "output_type": "display_data"
    }
   ],
   "source": [
    "#TODO: Define bin of volumes [DONE] :)\n",
    "#ONE: In order to create a good representation of bins we first need to understand how our stars are distributed\n",
    "#Therefore, I will study the distribution of the targeted stars only within 0.2 < g-r < 0.4 range\n",
    "#ONE.ONE:counts\n",
    "ctr = 0\n",
    "for i in range(y.size):# `y` is the array containing g-r. There are more efficient ways to do this\n",
    "    if y[i] < 0.4 and y[i] > 0.2:\n",
    "        ctr += 1\n",
    "#print(ctr)\n",
    "#ONE.TWO:creates tuple array that matches conditions\n",
    "is_target = np.empty(y.size)\n",
    "for i in range(y.size):\n",
    "    if (0.2 < y[i] and 0.4 > y[i]):\n",
    "        is_target[i] = True\n",
    "#print(is_target) #although it gives zeros it should be working\n",
    "#ONE.THREE: extracts good values of g-r band \n",
    "target_bands = np.extract(is_target,y)\n",
    "txt = \"The number of stars within target range: {num:.6f} stars\"\n",
    "print(txt.format(num = target_bands.size))\n",
    "\n",
    "\n",
    "#TWO: Get distances of these values\n",
    "target_distances = np.extract(is_target,distanceParsec)\n",
    "#prints maximum distance\n",
    "txt1 = \"The maximum distance is: {number1:.6f} parsec\"\n",
    "print(txt1.format(number1 = np.amax(target_distances)))\n",
    "txt2 = \"The minimum distance is: {number2:.6f} parsec\"\n",
    "print(txt2.format(number2 = np.amin(target_distances)))\n",
    "\n",
    "\n",
    "#THREE: Plots distritbution of these stars \n",
    "bins=np.linspace(0,100000,51)\n",
    "plt.figure(figsize=(8,8))\n",
    "plt.hist(target_distances, bins, histtype='bar', rwidth=0.5)\n",
    "plt.title('Histogram of number of stars in bins',fontsize =18)\n",
    "plt.xlabel('Bins of distances [5evenly spaced bins]', fontsize = 16)\n",
    "plt.ylabel('Number of distances within bins',fontsize = 16)\n",
    "plt.legend()\n",
    "plt.show()"
   ]
  },
  {
   "cell_type": "code",
   "execution_count": 189,
   "id": "f6e1313d",
   "metadata": {},
   "outputs": [
    {
     "name": "stdout",
     "output_type": "stream",
     "text": [
      "[0.0000e+00 1.7836e+04 2.9624e+04 2.6646e+04 2.8634e+04 2.9270e+04\n",
      " 2.5068e+04 1.8790e+04 1.2594e+04 8.5620e+03 5.7120e+03 3.6900e+03\n",
      " 2.5960e+03 1.7720e+03 1.2320e+03 9.3200e+02 6.1000e+02 4.6200e+02\n",
      " 3.6000e+02 2.4200e+02 1.7200e+02 1.0800e+02 1.1400e+02 8.2000e+01\n",
      " 6.4000e+01 3.8000e+01 4.0000e+01 2.4000e+01 1.6000e+01 1.2000e+01\n",
      " 8.0000e+00 2.0000e+00 6.0000e+00 1.4000e+01 2.0000e+00 4.0000e+00\n",
      " 0.0000e+00 0.0000e+00 2.0000e+00 2.0000e+00 0.0000e+00 2.0000e+00\n",
      " 0.0000e+00 0.0000e+00 0.0000e+00 0.0000e+00 0.0000e+00 0.0000e+00\n",
      " 0.0000e+00 0.0000e+00 2.0000e+00]\n"
     ]
    }
   ],
   "source": [
    "#TODO: Computes volumes of a bin: From the previous distribution of stars we can create 50 bins \n",
    "#ONE:The Volumnes will be evenly spaced so we can treat them separately(?) and calculate the number of stars in each box(?)\n",
    "target_volume = 4/3*np.pi*pow(2000,3)\n",
    "for i in range(1,bins.size):\n",
    "    for j in range(target_distances.size):\n",
    "        if (target_distances[j] <= bins[i] and target_distances[j] > bins[i-1]):\n",
    "            target_ctr[i] += 1\n",
    "print(target_ctr) # I genuinely believe these are the numbers of stars in every bin"
   ]
  },
  {
   "cell_type": "code",
   "execution_count": 214,
   "id": "b47189be",
   "metadata": {},
   "outputs": [
    {
     "name": "stderr",
     "output_type": "stream",
     "text": [
      "C:\\Users\\cosme\\AppData\\Local\\Temp/ipykernel_8380/3882830040.py:4: RuntimeWarning: divide by zero encountered in log\n",
      "  plt.plot(bins/1000,np.log(target_densities),'^',color = 'red')\n"
     ]
    },
    {
     "data": {
      "text/plain": [
       "Text(0, 0.5, 'ln(ρ) [N/pc^3]')"
      ]
     },
     "execution_count": 214,
     "metadata": {},
     "output_type": "execute_result"
    },
    {
     "data": {
      "image/png": "[encoded data removed]",
      "text/plain": [
       "<Figure size 576x576 with 1 Axes>"
      ]
     },
     "metadata": {
      "needs_background": "light"
     },
     "output_type": "display_data"
    }
   ],
   "source": [
    "#defines densities\n",
    "target_densities = (target_ctr/target_volume)\n",
    "plt.figure(figsize=(8,8))\n",
    "plt.plot(bins/1000,np.log(target_densities),'^',color = 'red')\n",
    "plt.title('Density Distribution for 0.2 < g- r < 0.4 stars ', fontsize =18)\n",
    "plt.xlabel('Distance [Kpc]',fontsize = 16)\n",
    "plt.ylabel('ln(ρ) [N/pc^3]',fontsize =16)"
   ]
  },
  {
   "cell_type": "code",
   "execution_count": null,
   "id": "dd1d6610",
   "metadata": {},
   "outputs": [],
   "source": [
    "ln"
   ]
  }
 ],
 "metadata": {
  "kernelspec": {
   "display_name": "Python 3 (ipykernel)",
   "language": "python",
   "name": "python3"
  },
  "language_info": {
   "codemirror_mode": {
    "name": "ipython",
    "version": 3
   },
   "file_extension": ".py",
   "mimetype": "text/x-python",
   "name": "python",
   "nbconvert_exporter": "python",
   "pygments_lexer": "ipython3",
   "version": "3.9.7"
  }
 },
 "nbformat": 4,
 "nbformat_minor": 5
}
