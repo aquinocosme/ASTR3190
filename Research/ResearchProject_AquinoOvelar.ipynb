{
 "cells": [
  {
   "cell_type": "code",
   "execution_count": 2,
   "id": "0addf06f",
   "metadata": {},
   "outputs": [],
   "source": [
    "#imports tools and constants definitions\n",
    "import numpy as np\n",
    "from astropy.io import ascii \n",
    "import matplotlib.pyplot as plt \n",
    "from matplotlib import cm\n",
    "import pandas as pd\n",
    "%matplotlib inline"
   ]
  },
  {
   "cell_type": "code",
   "execution_count": 3,
   "id": "54dfe768",
   "metadata": {},
   "outputs": [
    {
     "name": "stdout",
     "output_type": "stream",
     "text": [
      "    ra      dec    run   Ar    u     g   ... rErr iErr zErr  pmL   pmB   pmErr\n",
      "--------- -------- ---- ---- ----- ----- ... ---- ---- ---- ----- ------ -----\n",
      " 181.6122  27.5726 5087 0.05  16.4 15.24 ... 0.02 0.02 0.01  5.16  -1.45  2.72\n",
      "181.61303  27.6077 5087 0.05 21.84 19.55 ... 0.02 0.02 0.02  5.48   4.73  3.16\n",
      "181.61416 27.35956 5112 0.05 19.76 17.56 ... 0.02 0.03 0.03  3.14   7.92  2.79\n",
      " 181.6164 27.82464 5112 0.06 21.73 20.63 ... 0.03 0.03 0.13 19.13  -1.08  5.08\n",
      "181.62112 28.01623 5087 0.05 21.37 20.38 ... 0.03 0.03 0.09 -3.65   -8.0  4.91\n",
      "181.62252 27.63987 5087 0.05 17.34 15.58 ... 0.02 0.02 0.01  9.74 -10.64  2.72\n",
      "181.62469 27.32682 5112 0.05 21.63 20.52 ... 0.03 0.04 1.07  6.73 -25.39  5.13\n",
      "181.62582 27.42162 5112 0.05 23.16 21.09 ... 0.02 0.03 0.04 35.17    7.8  4.18\n",
      "181.63178 26.93836 5112 0.05 18.57 15.96 ... 0.02 0.02 0.02 15.96  -8.01  2.72\n",
      "181.63364 27.24131 5087 0.06  20.9 18.78 ... 0.02 0.02 0.02  2.03  -5.43  2.96\n"
     ]
    }
   ],
   "source": [
    "#reads the data and tests for correct input\n",
    "data = ascii.read('Astr511HW1data.dat.txt',format='commented_header') #commented_head use this in jupyter notebooks\n",
    "print(data[:10])\n",
    " ##    ra        dec   run     Ar      u      g      r      i      z  uErr  gErr  rErr  iErr  zErr    pmL    pmB    pmErr"
   ]
  },
  {
   "cell_type": "code",
   "execution_count": 4,
   "id": "e1d1e9c5",
   "metadata": {},
   "outputs": [],
   "source": [
    "#computes metallicity function [Bond et al. 2010]\n",
    "def metallicity(x,y):\n",
    "    \"\"\"\n",
    "    Calculates metallicity [Bond et al. 2010]\n",
    "        \n",
    "            Parameters:\n",
    "                x( float array): u-g SDSS band\n",
    "                y( float array): g-r SDSS band\n",
    "            Returns:\n",
    "                metallicity (float array): Fe/H\n",
    "    \"\"\"\n",
    "    #defines best-fit coefficients given by Bond et al. in array type from A-J\n",
    "    A=-13.13\n",
    "    B= 14.09\n",
    "    C= 28.04\n",
    "    D= -5.51\n",
    "    E= -5.90\n",
    "    F= -58.68\n",
    "    G= 9.14\n",
    "    H= -20.61\n",
    "    I= 0.0\n",
    "    J= 58.20\n",
    "    #creates empty array to allocate results \n",
    "    metallicityArray = np.empty(y.size)\n",
    "    metallicityArray[:] = 0\n",
    "    #loops through  data \n",
    "    for i in range (y.size):\n",
    "        if(y[i] < 0.6 ):    \n",
    "        #appends to resulting metallicity array and computes the formula. This seems very tricky but it's simple don't panick h\n",
    "            metallicityArray[i] = A+B*x[i]+C*y[i]+D*x[i]*y[i]+E*(x[i]**2)+F*(y[i]**2)+G*((x[i])**2)*y[i]+H*x[i]*((y[i])**2)+I*((x[i])**3)+J*(y[i]**3)\n",
    "        else:\n",
    "            metallicityArray[i] = -0.6\n",
    "    return metallicityArray\n",
    "    # metallicityArray[i] = A + B*x[i]+ C*y[i] + D*x[i]*y[i] + E*pow(x,2) + F*pow(y,2)+G*pow(x,2)*y + H*pow(y,2)*x + I*pow(x,3)+J*pow(y,3)\n"
   ]
  },
  {
   "cell_type": "code",
   "execution_count": 5,
   "id": "982a0a03",
   "metadata": {},
   "outputs": [
    {
     "name": "stdout",
     "output_type": "stream",
     "text": [
      "[-0.8191296 -0.6       -0.6       ... -0.6       -0.6       -0.6      ]\n"
     ]
    }
   ],
   "source": [
    "#tests metallicity function\n",
    "x = np.array(data['u'] - data['g'])\n",
    "y = np.array(data['g'] - data['r'])\n",
    "FeH = metallicity(x,y)\n",
    "print(FeH)"
   ]
  },
  {
   "cell_type": "code",
   "execution_count": 6,
   "id": "20d9a401",
   "metadata": {},
   "outputs": [],
   "source": [
    "#computes absolute magnitude using photometric parallax relationship [Ivezić et al. 2008]\n",
    "def abs_mag(band):\n",
    "    \"\"\"\n",
    "    Calculates absolute magnitudes [Bond et al. 2010]\n",
    "        \n",
    "            Parameters:\n",
    "                band( float array): g-i SDSS band\n",
    "            Returns:\n",
    "                absolute magnitudes(float array)\n",
    "    \"\"\"\n",
    "    #defines an empty array to return result\n",
    "    absolute_magnitude = np.empty(band.size)\n",
    "    #computes metallicity with previous function\n",
    "    metas = metallicity(x,y)\n",
    "    #loops through the arrays\n",
    "    for i in range(band.size):\n",
    "        mgn_metallicity = 4.50 -1.11*metas[i] -0.18*pow(metas[i],2)\n",
    "        #A7\n",
    "        mgn_band = -5.06  +14.32*band[i] - 12.97*pow(band[i],2) + 6.127*pow(band[i],3) - 1.267*pow(band[i],4) + 0.0967*pow(band[i],5)\n",
    "        #A4\n",
    "        absolute_magnitude[i] = mgn_band + mgn_metallicity\n",
    "    return absolute_magnitude"
   ]
  },
  {
   "cell_type": "code",
   "execution_count": 7,
   "id": "e953297b",
   "metadata": {},
   "outputs": [
    {
     "name": "stdout",
     "output_type": "stream",
     "text": [
      "[4.88853564 7.35863457 6.99674651 5.64485961 3.93777605 6.21245575\n",
      " 4.16177266 8.80018053 7.81967066 7.13325661 6.6090974  7.15312504\n",
      " 9.00008196 5.87101687 5.19660953 5.58187673 6.30386407 7.67323561\n",
      " 5.60238331 6.51519194 5.35027913 6.61439034 6.16487668 5.30720682\n",
      " 3.19556732 4.52877622 6.21245575 3.63096175 7.19319385 8.13587644\n",
      " 4.6269505  8.76762222 4.86438559 8.54593156 5.95950349 5.2726\n",
      " 5.48947639 7.92153682 4.85531136 6.39095648 8.89916384 9.172468\n",
      " 8.00023676 5.33635662 4.64081984 6.32601057 5.20893682 5.40817644\n",
      " 6.67260076 5.29597751]\n"
     ]
    }
   ],
   "source": [
    "#test abs_mag function\n",
    "z = np.array(data['g'] - data['i'])\n",
    "mag = abs_mag(z)\n",
    "print(mag[:50])"
   ]
  },
  {
   "cell_type": "code",
   "execution_count": 8,
   "id": "2fe66eb6",
   "metadata": {},
   "outputs": [],
   "source": [
    "#computes distance using a function\n",
    "def distance(absolutes,apparent):\n",
    "    \"\"\"\n",
    "    Calculates distances in parsecs\n",
    "        \n",
    "            Parameters:\n",
    "                Absolute: float array of absolute magnitude of a particular band\n",
    "                Apparent: float array of apparent magnitude of a particular band\n",
    "            Returns:\n",
    "                distances in parsecs(float array)\n",
    "    \"\"\"\n",
    "    #creates an empty array to return \n",
    "    formula = np.empty(absolutes.size)\n",
    "    formula = (apparent - absolutes)/5\n",
    "    result = np.power(10,formula)*10\n",
    "    return result"
   ]
  },
  {
   "cell_type": "code",
   "execution_count": 9,
   "id": "bae6e47c",
   "metadata": {},
   "outputs": [
    {
     "name": "stdout",
     "output_type": "stream",
     "text": [
      "[ 960.04783539 1615.37399051  836.85593009 ...  248.34974785  473.49750882\n",
      " 1338.20802884]\n"
     ]
    }
   ],
   "source": [
    "#tests for distance(absolute,apparent) function\n",
    "distanceParsec = distance(mag,np.array(data['r']))\n",
    "print(distanceParsec)"
   ]
  },
  {
   "cell_type": "code",
   "execution_count": 10,
   "id": "6065c7f3",
   "metadata": {},
   "outputs": [],
   "source": [
    "#computes function to calculate volume\n",
    "def volume_function(distance):\n",
    "    #creates an empty array to return\n",
    "    result = np.empty(distance.size)\n",
    "    result[:] = 0\n",
    "    for i in range(distance.size):\n",
    "        result[i] = 4/3*np.pi*distance[i]**3\n",
    "    return result\n",
    "# volumes = 4/3*np.pi*distancesCool**3 [use for testing]"
   ]
  },
  {
   "cell_type": "code",
   "execution_count": 11,
   "id": "4cc85f44",
   "metadata": {},
   "outputs": [
    {
     "name": "stdout",
     "output_type": "stream",
     "text": [
      "[3.70652751e+09 1.76566321e+10 2.45493899e+09 ... 6.41622787e+07\n",
      " 4.44673967e+08 1.00382846e+10]\n"
     ]
    }
   ],
   "source": [
    "vol = volume_function(distanceParsec)\n",
    "print(vol)"
   ]
  },
  {
   "cell_type": "code",
   "execution_count": 37,
   "id": "54e9a66c",
   "metadata": {},
   "outputs": [
    {
     "name": "stderr",
     "output_type": "stream",
     "text": [
      "No handles with labels found to put in legend.\n"
     ]
    },
    {
     "name": "stdout",
     "output_type": "stream",
     "text": [
      "The number of stars within target range: 107673.000000 stars\n",
      "The maximum distance is: 98928.784738 parsec\n",
      "The minimum distance is: 577.277196 parsec\n"
     ]
    },
    {
     "data": {
      "image/png": "[encoded data removed]",
      "text/plain": [
       "<Figure size 576x576 with 1 Axes>"
      ]
     },
     "metadata": {
      "needs_background": "light"
     },
     "output_type": "display_data"
    }
   ],
   "source": [
    "#TODO: Define bin of volumes [DONE] :)\n",
    "#ONE: In order to create a good representation of bins we first need to understand how our stars are distributed\n",
    "#Therefore, I will study the distribution of the targeted stars only within 0.2 < g-r < 0.4 range\n",
    "#ONE.ONE:counts\n",
    "ctr = 0\n",
    "for i in range(y.size):# `y` is the array containing g-r. There are more efficient ways to do this\n",
    "    if y[i] < 0.4 and y[i] > 0.2:\n",
    "        ctr += 1\n",
    "#print(ctr)\n",
    "#ONE.TWO:creates tuple array that matches conditions\n",
    "is_target = np.empty(y.size)\n",
    "for i in range(y.size):\n",
    "    if (0.2 < y[i] and 0.4 > y[i]):\n",
    "        is_target[i] = True\n",
    "#print(is_target) #although it gives zeros it should be working\n",
    "#ONE.THREE: extracts good values of g-r band \n",
    "target_bands = np.extract(is_target,y)\n",
    "txt = \"The number of stars within target range: {num:.6f} stars\"\n",
    "print(txt.format(num = target_bands.size))\n",
    "\n",
    "\n",
    "#TWO: Get distances of these values\n",
    "target_distances = np.extract(is_target,distanceParsec)\n",
    "#prints maximum distance\n",
    "txt1 = \"The maximum distance is: {number1:.6f} parsec\"\n",
    "print(txt1.format(number1 = np.amax(target_distances)))\n",
    "txt2 = \"The minimum distance is: {number2:.6f} parsec\"\n",
    "print(txt2.format(number2 = np.amin(target_distances)))\n",
    "\n",
    "\n",
    "#THREE: Plots distritbution of these stars \n",
    "bins=np.linspace(0,100000,51)\n",
    "plt.figure(figsize=(8,8))\n",
    "plt.hist(target_distances, bins, histtype='bar', rwidth=0.5)\n",
    "plt.title('Histogram of number of stars in bins',fontsize =18)\n",
    "plt.xlabel('Bins of distances [101 evenly spaced bins]', fontsize = 16)\n",
    "plt.ylabel('Number of distances within bins',fontsize = 16)\n",
    "plt.legend()\n",
    "plt.show()"
   ]
  },
  {
   "cell_type": "code",
   "execution_count": 33,
   "id": "23368979",
   "metadata": {},
   "outputs": [
    {
     "name": "stdout",
     "output_type": "stream",
     "text": [
      "[17157.13584445 16204.8668544   3790.33935317  7630.59907776\n",
      " 10687.75615475 12366.4417737  18698.53791623  4995.85587253\n",
      "  5637.97158215 13211.06193885  1153.01785151  6263.31852913\n",
      " 10021.66949163 11465.03739297  4909.75044222   947.14326915\n",
      "  3136.60666795  2473.77924623  6556.43194314 11174.51569316\n",
      "  6127.30099033 10224.60997666 10449.51638868  5196.22102495\n",
      "  3318.02998639  9558.33395036 13679.39795935  4600.23641932\n",
      "  4857.48065722  3288.04145691  6798.50521301  7832.24716989\n",
      "  2734.41963166  4715.99977433 11034.88141731  3892.77587272\n",
      "  6392.62554959  3709.15351554  1092.22217911  5137.41222391\n",
      " 16284.10232517  6312.25164273  1806.0300107   6441.651102\n",
      " 13627.91554658  9312.85261873  9396.76373961  1252.8714488\n",
      "  6161.45530082  6927.24216672]\n"
     ]
    }
   ],
   "source": [
    "print(target_distances[:50])"
   ]
  },
  {
   "cell_type": "code",
   "execution_count": 38,
   "id": "f6e1313d",
   "metadata": {},
   "outputs": [
    {
     "name": "stdout",
     "output_type": "stream",
     "text": [
      "[0.0000e+00 8.9180e+03 1.4812e+04 1.3323e+04 1.4317e+04 1.4635e+04\n",
      " 1.2534e+04 9.3950e+03 6.2970e+03 4.2810e+03 2.8560e+03 1.8450e+03\n",
      " 1.2980e+03 8.8600e+02 6.1600e+02 4.6600e+02 3.0500e+02 2.3100e+02\n",
      " 1.8000e+02 1.2100e+02 8.6000e+01 5.4000e+01 5.7000e+01 4.1000e+01\n",
      " 3.2000e+01 1.9000e+01 2.0000e+01 1.2000e+01 8.0000e+00 6.0000e+00\n",
      " 4.0000e+00 1.0000e+00 3.0000e+00 7.0000e+00 1.0000e+00 2.0000e+00\n",
      " 0.0000e+00 0.0000e+00 1.0000e+00 1.0000e+00 0.0000e+00 1.0000e+00\n",
      " 0.0000e+00 0.0000e+00 0.0000e+00 0.0000e+00 0.0000e+00 0.0000e+00\n",
      " 0.0000e+00 0.0000e+00 1.0000e+00]\n"
     ]
    }
   ],
   "source": [
    "#TODO: Computes volumes of a bin: From the previous distribution of stars we can create 50 bins \n",
    "#ONE:The Volumnes will be evenly spaced so we can treat them separately(?) and calculate the number of stars in each box(?)\n",
    "#target_volume = 4/3*np.pi*pow(2000,3)\n",
    "target_volumes = np.zeros(bins.size)\n",
    "for i in range(bins.size):\n",
    "    target_volumes[i] = 4/3*np.pi*pow(np.absolute(target_distances[i]-target_distances[i-1]),3)\n",
    "#print(target_volumes)\n",
    "target_ctr = np.zeros(bins.size)\n",
    "#calculates number of stars in every bin\n",
    "for i in range(1,bins.size):\n",
    "    for j in range(target_distances.size):\n",
    "        if (target_distances[j] <= bins[i] and target_distances[j] > bins[i-1]): #\n",
    "            target_ctr[i] += 1\n",
    "print(target_ctr) # I genuinely believe these are the numbers of stars in every bin"
   ]
  },
  {
   "cell_type": "code",
   "execution_count": 39,
   "id": "35be3652",
   "metadata": {},
   "outputs": [
    {
     "name": "stderr",
     "output_type": "stream",
     "text": [
      "C:\\Users\\cosme\\AppData\\Local\\Temp/ipykernel_9072/954932987.py:4: RuntimeWarning: divide by zero encountered in log\n",
      "  plt.plot(bins/1000,np.log(target_densities),'^',color = 'red')\n"
     ]
    },
    {
     "data": {
      "text/plain": [
       "Text(0, 0.5, 'ln(ρ) [N/pc^3]')"
      ]
     },
     "execution_count": 39,
     "metadata": {},
     "output_type": "execute_result"
    },
    {
     "data": {
      "image/png": "[encoded data removed]",
      "text/plain": [
       "<Figure size 576x576 with 1 Axes>"
      ]
     },
     "metadata": {
      "needs_background": "light"
     },
     "output_type": "display_data"
    }
   ],
   "source": [
    "#defines densities. Target volume should be an array \n",
    "target_densities = (target_ctr/target_volumes)\n",
    "plt.figure(figsize=(8,8))\n",
    "plt.plot(bins/1000,np.log(target_densities),'^',color = 'red')\n",
    "plt.title('Density Distribution for 0.2 < g- r < 0.4 stars ', fontsize =18)\n",
    "plt.xlabel('Distance [Kpc]',fontsize = 16)\n",
    "#plt.xlim(0,40)\n",
    "plt.ylabel('ln(ρ) [N/pc^3]',fontsize =16)"
   ]
  },
  {
   "cell_type": "code",
   "execution_count": null,
   "id": "29d7c85a",
   "metadata": {},
   "outputs": [],
   "source": [
    "#METHOD TWO"
   ]
  }
 ],
 "metadata": {
  "kernelspec": {
   "display_name": "Python 3 (ipykernel)",
   "language": "python",
   "name": "python3"
  },
  "language_info": {
   "codemirror_mode": {
    "name": "ipython",
    "version": 3
   },
   "file_extension": ".py",
   "mimetype": "text/x-python",
   "name": "python",
   "nbconvert_exporter": "python",
   "pygments_lexer": "ipython3",
   "version": "3.9.7"
  }
 },
 "nbformat": 4,
 "nbformat_minor": 5
}
