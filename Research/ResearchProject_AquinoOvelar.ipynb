{
 "cells": [
  {
   "cell_type": "code",
   "execution_count": 2,
   "id": "0addf06f",
   "metadata": {},
   "outputs": [],
   "source": [
    "#imports tools and constants definitions\n",
    "import numpy as np\n",
    "from astropy.io import ascii \n",
    "import matplotlib.pyplot as plt \n",
    "from matplotlib import cm\n",
    "import pandas as pd\n",
    "%matplotlib inline"
   ]
  },
  {
   "cell_type": "code",
   "execution_count": 3,
   "id": "753d3ae5",
   "metadata": {},
   "outputs": [],
   "source": [
    "#convert column values to np.array\n",
    "#numColumns = data.columns\n",
    "#print(numColumns)\n",
    "#for i in len(numColumns):\n",
    "#    columns = []\n",
    "#    columns.append(np.array[data[numColumns[i]]])"
   ]
  },
  {
   "cell_type": "code",
   "execution_count": 4,
   "id": "54dfe768",
   "metadata": {},
   "outputs": [
    {
     "name": "stdout",
     "output_type": "stream",
     "text": [
      "    ra      dec    run   Ar    u     g   ... rErr iErr zErr  pmL   pmB   pmErr\n",
      "--------- -------- ---- ---- ----- ----- ... ---- ---- ---- ----- ------ -----\n",
      " 181.6122  27.5726 5087 0.05  16.4 15.24 ... 0.02 0.02 0.01  5.16  -1.45  2.72\n",
      "181.61303  27.6077 5087 0.05 21.84 19.55 ... 0.02 0.02 0.02  5.48   4.73  3.16\n",
      "181.61416 27.35956 5112 0.05 19.76 17.56 ... 0.02 0.03 0.03  3.14   7.92  2.79\n",
      " 181.6164 27.82464 5112 0.06 21.73 20.63 ... 0.03 0.03 0.13 19.13  -1.08  5.08\n",
      "181.62112 28.01623 5087 0.05 21.37 20.38 ... 0.03 0.03 0.09 -3.65   -8.0  4.91\n",
      "181.62252 27.63987 5087 0.05 17.34 15.58 ... 0.02 0.02 0.01  9.74 -10.64  2.72\n",
      "181.62469 27.32682 5112 0.05 21.63 20.52 ... 0.03 0.04 1.07  6.73 -25.39  5.13\n",
      "181.62582 27.42162 5112 0.05 23.16 21.09 ... 0.02 0.03 0.04 35.17    7.8  4.18\n",
      "181.63178 26.93836 5112 0.05 18.57 15.96 ... 0.02 0.02 0.02 15.96  -8.01  2.72\n",
      "181.63364 27.24131 5087 0.06  20.9 18.78 ... 0.02 0.02 0.02  2.03  -5.43  2.96\n"
     ]
    }
   ],
   "source": [
    "#reads the data and tests for correct input\n",
    "data = ascii.read('Astr511HW1data.dat.txt',format='commented_header') #commented_head use this in jupyter notebooks\n",
    "print(data[:10])\n",
    " ##    ra        dec   run     Ar      u      g      r      i      z  uErr  gErr  rErr  iErr  zErr    pmL    pmB    pmErr"
   ]
  },
  {
   "cell_type": "code",
   "execution_count": 5,
   "id": "e1d1e9c5",
   "metadata": {},
   "outputs": [],
   "source": [
    "#computes metallicity function [Bond et al. 2010]\n",
    "def metallicity(x,y):\n",
    "    \"\"\"\n",
    "    Calculates metallicity [Bond et al. 2010]\n",
    "        \n",
    "            Parameters:\n",
    "                x( float array): u-g SDSS band\n",
    "                y( float array): g-r SDSS band\n",
    "            Returns:\n",
    "                metallicity (float array): Fe/H\n",
    "    \"\"\"\n",
    "    #defines best-fit coefficients given by Bond et al. in array type from A-J\n",
    "    A=-13.13\n",
    "    B= 14.09\n",
    "    C= 28.04\n",
    "    D= -5.51\n",
    "    E= -5.90\n",
    "    F= -58.68\n",
    "    G= 9.14\n",
    "    H= -20.61\n",
    "    I= 0.0\n",
    "    J= 58.20\n",
    "    #creates empty array to allocate results \n",
    "    metallicityArray = np.empty(y.size)\n",
    "    metallicityArray[:] = 0\n",
    "    #loops through  data \n",
    "    for i in range (y.size):\n",
    "        if(y[i] < 0.6 ):    \n",
    "        #appends to resulting metallicity array and computes the formula. This seems very tricky but it's simple don't panick h\n",
    "            metallicityArray[i] = A+B*x[i]+C*y[i]+D*x[i]*y[i]+E*(x[i]**2)+F*(y[i]**2)+G*((x[i])**2)*y[i]+H*x[i]*((y[i])**2)+I*((x[i])**3)+J*(y[i]**3)\n",
    "        else:\n",
    "            metallicityArray[i] = -0.6\n",
    "    return metallicityArray\n",
    "    # metallicityArray[i] = A + B*x[i]+ C*y[i] + D*x[i]*y[i] + E*pow(x,2) + F*pow(y,2)+G*pow(x,2)*y + H*pow(y,2)*x + I*pow(x,3)+J*pow(y,3)\n"
   ]
  },
  {
   "cell_type": "code",
   "execution_count": 6,
   "id": "982a0a03",
   "metadata": {},
   "outputs": [
    {
     "name": "stdout",
     "output_type": "stream",
     "text": [
      "[-0.8191296 -0.6       -0.6       ... -0.6       -0.6       -0.6      ]\n"
     ]
    }
   ],
   "source": [
    "#tests metallicity function\n",
    "x = np.array(data['u'] - data['g'])\n",
    "y = np.array(data['g'] - data['r'])\n",
    "metas = metallicity(x,y)\n",
    "print(metas)"
   ]
  },
  {
   "cell_type": "code",
   "execution_count": 7,
   "id": "20d9a401",
   "metadata": {},
   "outputs": [],
   "source": [
    "#computes absolute magnitude using photometric parallax relationship [Ivezić et al. 2008]\n",
    "def abs_mag(band):\n",
    "    \"\"\"\n",
    "    Calculates absolute magnitudes [Bond et al. 2010]\n",
    "        \n",
    "            Parameters:\n",
    "                band( float array): g -i SDSS band\n",
    "            Returns:\n",
    "                absolute magnitudes(float array)\n",
    "    \"\"\"\n",
    "    #defines an empty array to return result\n",
    "    absolute_magnitude = np.empty(band.size)\n",
    "    #computes metallicity with previous function\n",
    "    metas = metallicity(x,y)\n",
    "    #loops through the arrays\n",
    "    for i in range(band.size):\n",
    "        mgn_metallicity = 4.50 -1.11*metas[i] -0.18*pow(metas[i],2)\n",
    "        #A7\n",
    "        mgn_band = -5.06  +14.32*band[i] - 12.97*pow(band[i],2) + 6.127*pow(band[i],3) - 1.267*pow(band[i],4) + 0.0967*pow(band[i],5)\n",
    "        #A4\n",
    "        absolute_magnitude[i] = mgn_band + mgn_metallicity\n",
    "    return absolute_magnitude\n",
    "    \n",
    "    "
   ]
  },
  {
   "cell_type": "code",
   "execution_count": 8,
   "id": "e953297b",
   "metadata": {},
   "outputs": [
    {
     "name": "stdout",
     "output_type": "stream",
     "text": [
      "[4.88853564 7.35863457 6.99674651 5.64485961 3.93777605 6.21245575\n",
      " 4.16177266 8.80018053 7.81967066 7.13325661 6.6090974  7.15312504\n",
      " 9.00008196 5.87101687 5.19660953 5.58187673 6.30386407 7.67323561\n",
      " 5.60238331 6.51519194 5.35027913 6.61439034 6.16487668 5.30720682\n",
      " 3.19556732 4.52877622 6.21245575 3.63096175 7.19319385 8.13587644\n",
      " 4.6269505  8.76762222 4.86438559 8.54593156 5.95950349 5.2726\n",
      " 5.48947639 7.92153682 4.85531136 6.39095648 8.89916384 9.172468\n",
      " 8.00023676 5.33635662 4.64081984 6.32601057 5.20893682 5.40817644\n",
      " 6.67260076 5.29597751]\n"
     ]
    }
   ],
   "source": [
    "#test abs_mag function\n",
    "z = np.array(data['g'] - data['i'])\n",
    "mag = abs_mag(z)\n",
    "print(mag[:50])"
   ]
  },
  {
   "cell_type": "code",
   "execution_count": 18,
   "id": "2fe66eb6",
   "metadata": {},
   "outputs": [],
   "source": [
    "#getting distances\n",
    "def distance(absolutes,apparent):\n",
    "    #creates an empty array to return \n",
    "    result = np.empty(absolutes.size)\n",
    "    for i in range(absolutes.size):\n",
    "        formula = np.empty(absolutes.size)\n",
    "        formula[i] = (apparent[i] - absolutes[i])/5\n",
    "        result = np.power(10,formula)\n",
    "    return result/10\n",
    "        "
   ]
  },
  {
   "cell_type": "code",
   "execution_count": 20,
   "id": "8bcf4584",
   "metadata": {},
   "outputs": [
    {
     "name": "stdout",
     "output_type": "stream",
     "text": [
      "[  9.60047835  16.15373991   8.3685593   81.10134916 171.57135844\n",
      "   5.26633945 162.04866854  14.92670308   2.45508124  13.59404422\n",
      "  41.32192254  30.29528151  12.94146992  17.77446859  37.90339353\n",
      "  43.61387294  45.62755389   5.46201486   9.1943988   14.89229439\n",
      "  75.8480071   14.62587753  30.41057727  76.30599078 106.87756155\n",
      " 123.66441774   5.51453439 186.98537916  28.66561281   7.67051833\n",
      "  49.95855873   7.7709758   56.37971582   5.13823174  70.81076757\n",
      "  37.62530247  16.75346804   2.70204537 132.11061939   8.23775181\n",
      "   9.86659343  13.04687198  11.2707456   25.0454406   11.53017852\n",
      "  19.44454955  25.9544982   14.07228794  33.84385672  62.63318529]\n"
     ]
    }
   ],
   "source": [
    "myArray = (np.array(data['r'][:50])- mag[:50])/5\n",
    "distancesCool = np.power(10,myArray)\n",
    "print(distancesCool/10) #this should be in parsecs and about the same distances since this is supposed to be in the same galaxy "
   ]
  },
  {
   "cell_type": "code",
   "execution_count": 19,
   "id": "bae6e47c",
   "metadata": {},
   "outputs": [
    {
     "name": "stdout",
     "output_type": "stream",
     "text": [
      "[            inf             inf             inf             inf\n",
      "             inf             inf             inf             inf\n",
      "             inf             inf             inf             inf\n",
      "             inf             inf             inf             inf\n",
      "             inf             inf             inf             inf\n",
      "             inf             inf             inf             inf\n",
      "             inf             inf             inf             inf\n",
      "             inf             inf             inf             inf\n",
      "             inf             inf             inf             inf\n",
      "             inf             inf             inf             inf\n",
      "             inf             inf             inf             inf\n",
      "             inf             inf             inf 5.28298507e+139\n",
      "             inf 6.26331853e+001]\n"
     ]
    },
    {
     "name": "stderr",
     "output_type": "stream",
     "text": [
      "C:\\Users\\cosme\\AppData\\Local\\Temp/ipykernel_14372/286512225.py:8: RuntimeWarning: overflow encountered in power\n",
      "  result = np.power(10,formula)\n"
     ]
    }
   ],
   "source": [
    "myDistance = distance(mag[:50],np.array(data['r'])[:50])\n",
    "print(myDistance)"
   ]
  },
  {
   "cell_type": "code",
   "execution_count": null,
   "id": "6065c7f3",
   "metadata": {},
   "outputs": [],
   "source": []
  }
 ],
 "metadata": {
  "kernelspec": {
   "display_name": "Python 3 (ipykernel)",
   "language": "python",
   "name": "python3"
  },
  "language_info": {
   "codemirror_mode": {
    "name": "ipython",
    "version": 3
   },
   "file_extension": ".py",
   "mimetype": "text/x-python",
   "name": "python",
   "nbconvert_exporter": "python",
   "pygments_lexer": "ipython3",
   "version": "3.9.7"
  }
 },
 "nbformat": 4,
 "nbformat_minor": 5
}
